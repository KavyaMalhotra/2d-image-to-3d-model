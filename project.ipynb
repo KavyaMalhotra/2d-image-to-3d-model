{
  "nbformat": 4,
  "nbformat_minor": 0,
  "metadata": {
    "colab": {
      "provenance": [],
      "authorship_tag": "ABX9TyMnewI3YxN+4io0UciH/2bh",
      "include_colab_link": true
    },
    "kernelspec": {
      "name": "python3",
      "display_name": "Python 3"
    },
    "language_info": {
      "name": "python"
    }
  },
  "cells": [
    {
      "cell_type": "markdown",
      "metadata": {
        "id": "view-in-github",
        "colab_type": "text"
      },
      "source": [
        "<a href=\"https://colab.research.google.com/github/KavyaMalhotra/2d-image-to-3d-model/blob/main/project.ipynb\" target=\"_parent\"><img src=\"https://colab.research.google.com/assets/colab-badge.svg\" alt=\"Open In Colab\"/></a>"
      ]
    },
    {
      "cell_type": "code",
      "execution_count": null,
      "metadata": {
        "id": "j4yFEZEhaAfa",
        "colab": {
          "base_uri": "https://localhost:8080/"
        },
        "outputId": "c1383bb6-9469-4ce1-8ff1-4b241914331b"
      },
      "outputs": [
        {
          "output_type": "stream",
          "name": "stdout",
          "text": [
            "Requirement already satisfied: numpy-stl in /usr/local/lib/python3.10/dist-packages (3.1.1)\n",
            "Requirement already satisfied: numpy in /usr/local/lib/python3.10/dist-packages (from numpy-stl) (1.25.2)\n",
            "Requirement already satisfied: python-utils>=3.4.5 in /usr/local/lib/python3.10/dist-packages (from numpy-stl) (3.8.2)\n",
            "Requirement already satisfied: typing-extensions>3.10.0.2 in /usr/local/lib/python3.10/dist-packages (from python-utils>=3.4.5->numpy-stl) (4.11.0)\n",
            "Traceback (most recent call last):\n",
            "  File \"/usr/lib/python3.10/runpy.py\", line 196, in _run_module_as_main\n",
            "    return _run_code(code, main_globals, None,\n",
            "  File \"/usr/lib/python3.10/runpy.py\", line 86, in _run_code\n",
            "    exec(code, run_globals)\n",
            "  File \"/usr/lib/python3.10/tkinter/__main__.py\", line 7, in <module>\n",
            "    main()\n",
            "  File \"/usr/lib/python3.10/tkinter/__init__.py\", line 4596, in _test\n",
            "    root = Tk()\n",
            "  File \"/usr/lib/python3.10/tkinter/__init__.py\", line 2299, in __init__\n",
            "    self.tk = _tkinter.create(screenName, baseName, className, interactive, wantobjects, useTk, sync, use)\n",
            "_tkinter.TclError: no display name and no $DISPLAY environment variable\n"
          ]
        }
      ],
      "source": [
        "!pip3 install numpy-stl\n",
        "!python -m tkinter\n"
      ]
    },
    {
      "cell_type": "markdown",
      "source": [
        "quick start!"
      ],
      "metadata": {
        "id": "x-n-vPGwdanf"
      }
    },
    {
      "cell_type": "code",
      "source": [
        "from stl import mesh\n",
        "import math\n",
        "import numpy\n",
        "import plotly.graph_objects as go\n",
        "\n",
        "# Define the 8 vertices of the cube\n",
        "vertices = [\n",
        "    [0, 0, 0],\n",
        "    [0, 0, 1],\n",
        "    [0, 1, 0],\n",
        "    [0, 1, 1],\n",
        "    [1, 0, 0],\n",
        "    [1, 0, 1],\n",
        "    [1, 1, 0],\n",
        "    [1, 1, 1]\n",
        "]\n",
        "\n",
        "# Define the 12 triangles composing the cube\n",
        "faces = [\n",
        "    [0, 1, 2], [1, 2, 3], # front\n",
        "    [4, 5, 6], [5, 6, 7], # back\n",
        "    [0, 1, 4], [1, 4, 5], # bottom\n",
        "    [2, 3, 6], [3, 6, 7], # top\n",
        "    [0, 2, 4], [2, 4, 6], # left\n",
        "    [1, 3, 5], [3, 5, 7]  # right\n",
        "]\n",
        "\n",
        "# Create a list of x, y and z coordinates for each vertex\n",
        "x, y, z = zip(*vertices)\n",
        "\n",
        "# Create a list of i, j and k indices for each face\n",
        "i, j, k = zip(*faces)\n",
        "\n",
        "# Create a 3D figure\n",
        "fig = go.Figure(data=[\n",
        "    go.Mesh3d(\n",
        "        x=x,\n",
        "        y=y,\n",
        "        z=z,\n",
        "        i=i,\n",
        "        j=j,\n",
        "        k=k,\n",
        "        color='lightblue',\n",
        "        opacity=0.50\n",
        "    )\n",
        "])\n",
        "\n",
        "# Show the plot\n",
        "fig.show()\n",
        "\n"
      ],
      "metadata": {
        "id": "XMgXtQTrdd6L",
        "colab": {
          "base_uri": "https://localhost:8080/",
          "height": 542
        },
        "outputId": "0f95fe11-a713-4783-b557-0c6e8c5736fa"
      },
      "execution_count": null,
      "outputs": [
        {
          "output_type": "display_data",
          "data": {
            "text/html": [
              "<html>\n",
              "<head><meta charset=\"utf-8\" /></head>\n",
              "<body>\n",
              "    <div>            <script src=\"https://cdnjs.cloudflare.com/ajax/libs/mathjax/2.7.5/MathJax.js?config=TeX-AMS-MML_SVG\"></script><script type=\"text/javascript\">if (window.MathJax && window.MathJax.Hub && window.MathJax.Hub.Config) {window.MathJax.Hub.Config({SVG: {font: \"STIX-Web\"}});}</script>                <script type=\"text/javascript\">window.PlotlyConfig = {MathJaxConfig: 'local'};</script>\n",
              "        <script charset=\"utf-8\" src=\"https://cdn.plot.ly/plotly-2.24.1.min.js\"></script>                <div id=\"917d6011-1643-4f79-b510-9389ee301fe1\" class=\"plotly-graph-div\" style=\"height:525px; width:100%;\"></div>            <script type=\"text/javascript\">                                    window.PLOTLYENV=window.PLOTLYENV || {};                                    if (document.getElementById(\"917d6011-1643-4f79-b510-9389ee301fe1\")) {                    Plotly.newPlot(                        \"917d6011-1643-4f79-b510-9389ee301fe1\",                        [{\"color\":\"lightblue\",\"i\":[0,1,4,5,0,1,2,3,0,2,1,3],\"j\":[1,2,5,6,1,4,3,6,2,4,3,5],\"k\":[2,3,6,7,4,5,6,7,4,6,5,7],\"opacity\":0.5,\"x\":[0,0,0,0,1,1,1,1],\"y\":[0,0,1,1,0,0,1,1],\"z\":[0,1,0,1,0,1,0,1],\"type\":\"mesh3d\"}],                        {\"template\":{\"data\":{\"histogram2dcontour\":[{\"type\":\"histogram2dcontour\",\"colorbar\":{\"outlinewidth\":0,\"ticks\":\"\"},\"colorscale\":[[0.0,\"#0d0887\"],[0.1111111111111111,\"#46039f\"],[0.2222222222222222,\"#7201a8\"],[0.3333333333333333,\"#9c179e\"],[0.4444444444444444,\"#bd3786\"],[0.5555555555555556,\"#d8576b\"],[0.6666666666666666,\"#ed7953\"],[0.7777777777777778,\"#fb9f3a\"],[0.8888888888888888,\"#fdca26\"],[1.0,\"#f0f921\"]]}],\"choropleth\":[{\"type\":\"choropleth\",\"colorbar\":{\"outlinewidth\":0,\"ticks\":\"\"}}],\"histogram2d\":[{\"type\":\"histogram2d\",\"colorbar\":{\"outlinewidth\":0,\"ticks\":\"\"},\"colorscale\":[[0.0,\"#0d0887\"],[0.1111111111111111,\"#46039f\"],[0.2222222222222222,\"#7201a8\"],[0.3333333333333333,\"#9c179e\"],[0.4444444444444444,\"#bd3786\"],[0.5555555555555556,\"#d8576b\"],[0.6666666666666666,\"#ed7953\"],[0.7777777777777778,\"#fb9f3a\"],[0.8888888888888888,\"#fdca26\"],[1.0,\"#f0f921\"]]}],\"heatmap\":[{\"type\":\"heatmap\",\"colorbar\":{\"outlinewidth\":0,\"ticks\":\"\"},\"colorscale\":[[0.0,\"#0d0887\"],[0.1111111111111111,\"#46039f\"],[0.2222222222222222,\"#7201a8\"],[0.3333333333333333,\"#9c179e\"],[0.4444444444444444,\"#bd3786\"],[0.5555555555555556,\"#d8576b\"],[0.6666666666666666,\"#ed7953\"],[0.7777777777777778,\"#fb9f3a\"],[0.8888888888888888,\"#fdca26\"],[1.0,\"#f0f921\"]]}],\"heatmapgl\":[{\"type\":\"heatmapgl\",\"colorbar\":{\"outlinewidth\":0,\"ticks\":\"\"},\"colorscale\":[[0.0,\"#0d0887\"],[0.1111111111111111,\"#46039f\"],[0.2222222222222222,\"#7201a8\"],[0.3333333333333333,\"#9c179e\"],[0.4444444444444444,\"#bd3786\"],[0.5555555555555556,\"#d8576b\"],[0.6666666666666666,\"#ed7953\"],[0.7777777777777778,\"#fb9f3a\"],[0.8888888888888888,\"#fdca26\"],[1.0,\"#f0f921\"]]}],\"contourcarpet\":[{\"type\":\"contourcarpet\",\"colorbar\":{\"outlinewidth\":0,\"ticks\":\"\"}}],\"contour\":[{\"type\":\"contour\",\"colorbar\":{\"outlinewidth\":0,\"ticks\":\"\"},\"colorscale\":[[0.0,\"#0d0887\"],[0.1111111111111111,\"#46039f\"],[0.2222222222222222,\"#7201a8\"],[0.3333333333333333,\"#9c179e\"],[0.4444444444444444,\"#bd3786\"],[0.5555555555555556,\"#d8576b\"],[0.6666666666666666,\"#ed7953\"],[0.7777777777777778,\"#fb9f3a\"],[0.8888888888888888,\"#fdca26\"],[1.0,\"#f0f921\"]]}],\"surface\":[{\"type\":\"surface\",\"colorbar\":{\"outlinewidth\":0,\"ticks\":\"\"},\"colorscale\":[[0.0,\"#0d0887\"],[0.1111111111111111,\"#46039f\"],[0.2222222222222222,\"#7201a8\"],[0.3333333333333333,\"#9c179e\"],[0.4444444444444444,\"#bd3786\"],[0.5555555555555556,\"#d8576b\"],[0.6666666666666666,\"#ed7953\"],[0.7777777777777778,\"#fb9f3a\"],[0.8888888888888888,\"#fdca26\"],[1.0,\"#f0f921\"]]}],\"mesh3d\":[{\"type\":\"mesh3d\",\"colorbar\":{\"outlinewidth\":0,\"ticks\":\"\"}}],\"scatter\":[{\"fillpattern\":{\"fillmode\":\"overlay\",\"size\":10,\"solidity\":0.2},\"type\":\"scatter\"}],\"parcoords\":[{\"type\":\"parcoords\",\"line\":{\"colorbar\":{\"outlinewidth\":0,\"ticks\":\"\"}}}],\"scatterpolargl\":[{\"type\":\"scatterpolargl\",\"marker\":{\"colorbar\":{\"outlinewidth\":0,\"ticks\":\"\"}}}],\"bar\":[{\"error_x\":{\"color\":\"#2a3f5f\"},\"error_y\":{\"color\":\"#2a3f5f\"},\"marker\":{\"line\":{\"color\":\"#E5ECF6\",\"width\":0.5},\"pattern\":{\"fillmode\":\"overlay\",\"size\":10,\"solidity\":0.2}},\"type\":\"bar\"}],\"scattergeo\":[{\"type\":\"scattergeo\",\"marker\":{\"colorbar\":{\"outlinewidth\":0,\"ticks\":\"\"}}}],\"scatterpolar\":[{\"type\":\"scatterpolar\",\"marker\":{\"colorbar\":{\"outlinewidth\":0,\"ticks\":\"\"}}}],\"histogram\":[{\"marker\":{\"pattern\":{\"fillmode\":\"overlay\",\"size\":10,\"solidity\":0.2}},\"type\":\"histogram\"}],\"scattergl\":[{\"type\":\"scattergl\",\"marker\":{\"colorbar\":{\"outlinewidth\":0,\"ticks\":\"\"}}}],\"scatter3d\":[{\"type\":\"scatter3d\",\"line\":{\"colorbar\":{\"outlinewidth\":0,\"ticks\":\"\"}},\"marker\":{\"colorbar\":{\"outlinewidth\":0,\"ticks\":\"\"}}}],\"scattermapbox\":[{\"type\":\"scattermapbox\",\"marker\":{\"colorbar\":{\"outlinewidth\":0,\"ticks\":\"\"}}}],\"scatterternary\":[{\"type\":\"scatterternary\",\"marker\":{\"colorbar\":{\"outlinewidth\":0,\"ticks\":\"\"}}}],\"scattercarpet\":[{\"type\":\"scattercarpet\",\"marker\":{\"colorbar\":{\"outlinewidth\":0,\"ticks\":\"\"}}}],\"carpet\":[{\"aaxis\":{\"endlinecolor\":\"#2a3f5f\",\"gridcolor\":\"white\",\"linecolor\":\"white\",\"minorgridcolor\":\"white\",\"startlinecolor\":\"#2a3f5f\"},\"baxis\":{\"endlinecolor\":\"#2a3f5f\",\"gridcolor\":\"white\",\"linecolor\":\"white\",\"minorgridcolor\":\"white\",\"startlinecolor\":\"#2a3f5f\"},\"type\":\"carpet\"}],\"table\":[{\"cells\":{\"fill\":{\"color\":\"#EBF0F8\"},\"line\":{\"color\":\"white\"}},\"header\":{\"fill\":{\"color\":\"#C8D4E3\"},\"line\":{\"color\":\"white\"}},\"type\":\"table\"}],\"barpolar\":[{\"marker\":{\"line\":{\"color\":\"#E5ECF6\",\"width\":0.5},\"pattern\":{\"fillmode\":\"overlay\",\"size\":10,\"solidity\":0.2}},\"type\":\"barpolar\"}],\"pie\":[{\"automargin\":true,\"type\":\"pie\"}]},\"layout\":{\"autotypenumbers\":\"strict\",\"colorway\":[\"#636efa\",\"#EF553B\",\"#00cc96\",\"#ab63fa\",\"#FFA15A\",\"#19d3f3\",\"#FF6692\",\"#B6E880\",\"#FF97FF\",\"#FECB52\"],\"font\":{\"color\":\"#2a3f5f\"},\"hovermode\":\"closest\",\"hoverlabel\":{\"align\":\"left\"},\"paper_bgcolor\":\"white\",\"plot_bgcolor\":\"#E5ECF6\",\"polar\":{\"bgcolor\":\"#E5ECF6\",\"angularaxis\":{\"gridcolor\":\"white\",\"linecolor\":\"white\",\"ticks\":\"\"},\"radialaxis\":{\"gridcolor\":\"white\",\"linecolor\":\"white\",\"ticks\":\"\"}},\"ternary\":{\"bgcolor\":\"#E5ECF6\",\"aaxis\":{\"gridcolor\":\"white\",\"linecolor\":\"white\",\"ticks\":\"\"},\"baxis\":{\"gridcolor\":\"white\",\"linecolor\":\"white\",\"ticks\":\"\"},\"caxis\":{\"gridcolor\":\"white\",\"linecolor\":\"white\",\"ticks\":\"\"}},\"coloraxis\":{\"colorbar\":{\"outlinewidth\":0,\"ticks\":\"\"}},\"colorscale\":{\"sequential\":[[0.0,\"#0d0887\"],[0.1111111111111111,\"#46039f\"],[0.2222222222222222,\"#7201a8\"],[0.3333333333333333,\"#9c179e\"],[0.4444444444444444,\"#bd3786\"],[0.5555555555555556,\"#d8576b\"],[0.6666666666666666,\"#ed7953\"],[0.7777777777777778,\"#fb9f3a\"],[0.8888888888888888,\"#fdca26\"],[1.0,\"#f0f921\"]],\"sequentialminus\":[[0.0,\"#0d0887\"],[0.1111111111111111,\"#46039f\"],[0.2222222222222222,\"#7201a8\"],[0.3333333333333333,\"#9c179e\"],[0.4444444444444444,\"#bd3786\"],[0.5555555555555556,\"#d8576b\"],[0.6666666666666666,\"#ed7953\"],[0.7777777777777778,\"#fb9f3a\"],[0.8888888888888888,\"#fdca26\"],[1.0,\"#f0f921\"]],\"diverging\":[[0,\"#8e0152\"],[0.1,\"#c51b7d\"],[0.2,\"#de77ae\"],[0.3,\"#f1b6da\"],[0.4,\"#fde0ef\"],[0.5,\"#f7f7f7\"],[0.6,\"#e6f5d0\"],[0.7,\"#b8e186\"],[0.8,\"#7fbc41\"],[0.9,\"#4d9221\"],[1,\"#276419\"]]},\"xaxis\":{\"gridcolor\":\"white\",\"linecolor\":\"white\",\"ticks\":\"\",\"title\":{\"standoff\":15},\"zerolinecolor\":\"white\",\"automargin\":true,\"zerolinewidth\":2},\"yaxis\":{\"gridcolor\":\"white\",\"linecolor\":\"white\",\"ticks\":\"\",\"title\":{\"standoff\":15},\"zerolinecolor\":\"white\",\"automargin\":true,\"zerolinewidth\":2},\"scene\":{\"xaxis\":{\"backgroundcolor\":\"#E5ECF6\",\"gridcolor\":\"white\",\"linecolor\":\"white\",\"showbackground\":true,\"ticks\":\"\",\"zerolinecolor\":\"white\",\"gridwidth\":2},\"yaxis\":{\"backgroundcolor\":\"#E5ECF6\",\"gridcolor\":\"white\",\"linecolor\":\"white\",\"showbackground\":true,\"ticks\":\"\",\"zerolinecolor\":\"white\",\"gridwidth\":2},\"zaxis\":{\"backgroundcolor\":\"#E5ECF6\",\"gridcolor\":\"white\",\"linecolor\":\"white\",\"showbackground\":true,\"ticks\":\"\",\"zerolinecolor\":\"white\",\"gridwidth\":2}},\"shapedefaults\":{\"line\":{\"color\":\"#2a3f5f\"}},\"annotationdefaults\":{\"arrowcolor\":\"#2a3f5f\",\"arrowhead\":0,\"arrowwidth\":1},\"geo\":{\"bgcolor\":\"white\",\"landcolor\":\"#E5ECF6\",\"subunitcolor\":\"white\",\"showland\":true,\"showlakes\":true,\"lakecolor\":\"white\"},\"title\":{\"x\":0.05},\"mapbox\":{\"style\":\"light\"}}}},                        {\"responsive\": true}                    ).then(function(){\n",
              "                            \n",
              "var gd = document.getElementById('917d6011-1643-4f79-b510-9389ee301fe1');\n",
              "var x = new MutationObserver(function (mutations, observer) {{\n",
              "        var display = window.getComputedStyle(gd).display;\n",
              "        if (!display || display === 'none') {{\n",
              "            console.log([gd, 'removed!']);\n",
              "            Plotly.purge(gd);\n",
              "            observer.disconnect();\n",
              "        }}\n",
              "}});\n",
              "\n",
              "// Listen for the removal of the full notebook cells\n",
              "var notebookContainer = gd.closest('#notebook-container');\n",
              "if (notebookContainer) {{\n",
              "    x.observe(notebookContainer, {childList: true});\n",
              "}}\n",
              "\n",
              "// Listen for the clearing of the current output cell\n",
              "var outputEl = gd.closest('.output');\n",
              "if (outputEl) {{\n",
              "    x.observe(outputEl, {childList: true});\n",
              "}}\n",
              "\n",
              "                        })                };                            </script>        </div>\n",
              "</body>\n",
              "</html>"
            ]
          },
          "metadata": {}
        }
      ]
    },
    {
      "cell_type": "markdown",
      "source": [
        "Simple example on how to create a cube using triangles for faces"
      ],
      "metadata": {
        "id": "dokcVqMQwNJQ"
      }
    },
    {
      "cell_type": "code",
      "source": [
        "import numpy as np\n",
        "from stl import mesh\n",
        "\n",
        "# Define the 8 vertices of the cube\n",
        "vertices = np.array([\\\n",
        "    [-1, -1, -1],\n",
        "    [+1, -1, -1],\n",
        "    [+1, +1, -1],\n",
        "    [-1, +1, -1],\n",
        "    [-1, -1, +1],\n",
        "    [+1, -1, +1],\n",
        "    [+1, +1, +1],\n",
        "    [-1, +1, +1]])\n",
        "# Define the 12 triangles composing the cube\n",
        "faces = np.array([\\\n",
        "    [0,3,1],\n",
        "    [1,3,2],\n",
        "    [0,4,7],\n",
        "    [0,7,3],\n",
        "    [4,5,6],\n",
        "    [4,6,7],\n",
        "    [5,1,2],\n",
        "    [5,2,6],\n",
        "    [2,3,6],\n",
        "    [3,7,6],\n",
        "    [0,1,5],\n",
        "    [0,5,4]])\n",
        "\n",
        "# Create the mesh\n",
        "cube = mesh.Mesh(np.zeros(faces.shape[0], dtype=mesh.Mesh.dtype))\n",
        "for i, f in enumerate(faces):\n",
        "    for j in range(3):\n",
        "        cube.vectors[i][j] = vertices[f[j],:]\n",
        "\n",
        "# Write the mesh to file \"cube.stl\"\n",
        "cube.save('cube.stl')"
      ],
      "metadata": {
        "id": "4acevfkHrtYH"
      },
      "execution_count": null,
      "outputs": []
    },
    {
      "cell_type": "markdown",
      "source": [
        "Read Image from file"
      ],
      "metadata": {
        "id": "rnXwRKzWxiBX"
      }
    },
    {
      "cell_type": "code",
      "source": [
        "from PIL import Image\n",
        "import matplotlib.pyplot as plt\n",
        "im = Image.open(\"/content/table2.png\")\n",
        "plt.imshow(im)"
      ],
      "metadata": {
        "id": "Qbu_ws-CxkMg",
        "colab": {
          "base_uri": "https://localhost:8080/",
          "height": 413
        },
        "outputId": "096c0c2a-eb8c-4625-8e82-0d01dd1908c6"
      },
      "execution_count": null,
      "outputs": [
        {
          "output_type": "execute_result",
          "data": {
            "text/plain": [
              "<matplotlib.image.AxesImage at 0x7da309376110>"
            ]
          },
          "metadata": {},
          "execution_count": 13
        },
        {
          "output_type": "display_data",
          "data": {
            "text/plain": [
              "<Figure size 640x480 with 1 Axes>"
            ],
            "image/png": "[encoded data removed]"
          },
          "metadata": {}
        }
      ]
    },
    {
      "cell_type": "markdown",
      "source": [
        "Convert the image to grey scale"
      ],
      "metadata": {
        "id": "C7o3vIsRzJ9r"
      }
    },
    {
      "cell_type": "code",
      "source": [
        "grey_img = Image.open(\"/content/table2.png\").convert('L')\n",
        "plt.imshow(grey_img)\n",
        "# img.save('greyscale.png')"
      ],
      "metadata": {
        "colab": {
          "base_uri": "https://localhost:8080/",
          "height": 413
        },
        "id": "mGWxeVGRzPtF",
        "outputId": "16ff31b1-3c47-45fd-8e28-ee4d5974052c"
      },
      "execution_count": null,
      "outputs": [
        {
          "output_type": "execute_result",
          "data": {
            "text/plain": [
              "<matplotlib.image.AxesImage at 0x7da3093e1810>"
            ]
          },
          "metadata": {},
          "execution_count": 14
        },
        {
          "output_type": "display_data",
          "data": {
            "text/plain": [
              "<Figure size 640x480 with 1 Axes>"
            ],
            "image/png": "[encoded data removed]"
          },
          "metadata": {}
        }
      ]
    },
    {
      "cell_type": "markdown",
      "source": [
        "Create simple surface using 2 triangles"
      ],
      "metadata": {
        "id": "JatSX8dO1Yol"
      }
    },
    {
      "cell_type": "code",
      "source": [
        "import numpy as np\n",
        "from stl import mesh\n",
        "\n",
        "# Define the 8 vertices of the cube\n",
        "vertices = np.array([\\\n",
        "    [-1, -1, -1],\n",
        "    [+1, -1, -1],\n",
        "    [+1, +1, -1],\n",
        "    [-1, +1, -1]])\n",
        "# Define the 12 triangles composing the cube\n",
        "faces = np.array([\\\n",
        "    [1,2,3],\n",
        "    [3,1,0]])\n",
        "\n",
        "# Create the mesh\n",
        "cube = mesh.Mesh(np.zeros(faces.shape[0], dtype=mesh.Mesh.dtype))\n",
        "for i, f in enumerate(faces):\n",
        "    for j in range(3):\n",
        "        cube.vectors[i][j] = vertices[f[j],:]\n",
        "\n",
        "# Write the mesh to file \"cube.stl\"\n",
        "cube.save('surface.stl')"
      ],
      "metadata": {
        "id": "6cnnfmxf1ZB2"
      },
      "execution_count": null,
      "outputs": []
    },
    {
      "cell_type": "markdown",
      "source": [
        "Create a surface 1000 x 1000 with n triangles"
      ],
      "metadata": {
        "id": "2A63z-Vu4GGK"
      }
    },
    {
      "cell_type": "code",
      "source": [
        "grey_img = Image.open(\"/content/table2.png\").convert('L')\n",
        "\n",
        "max_size = (1000,1000)\n",
        "\n",
        "\n",
        "max_height = 100\n",
        "min_height = 0\n",
        "\n",
        "\n",
        "grey_img.thumbnail(max_size)\n",
        "# print(grey_img.mode)\n",
        "imageNp = np.array(grey_img)\n",
        "maxPix = imageNp.max()\n",
        "minPix = imageNp.min()\n",
        "\n",
        "\n",
        "# print(f\"shape:{imageNp.shape}\")\n",
        "print(imageNp)\n",
        "(ncols, nrows) = grey_img.size\n",
        "\n",
        "# nrows = 10\n",
        "# ncols = 50\n",
        "vertices = np.zeros((nrows, ncols, 3))\n",
        "\n",
        "for x in range(0, ncols):\n",
        "  for y in range(0, nrows):\n",
        "    pixelIntensity = imageNp[y][x]\n",
        "    z = pixelIntensity * max_height / maxPix\n",
        "    vertices[y][x] = (x, y, z)\n",
        "\n",
        "# nfaces = (ncols * nrows)/2\n",
        "faces = []\n",
        "\n",
        "for x in range(0, ncols-1):\n",
        "  for y in range(0, nrows-1):\n",
        "    z = 0\n",
        "    #face1\n",
        "    vertice1 = vertices[y][x]\n",
        "    vertice2 = vertices[y+1][x]\n",
        "    vertice3 = vertices[y+1][x+1]\n",
        "    face1 = np.array([vertice1, vertice2, vertice3])\n",
        "\n",
        "    #face2\n",
        "    vertice1 = vertices[y][x]\n",
        "    vertice2 = vertices[y][x+1]\n",
        "    vertice3 = vertices[y+1][x+1]\n",
        "    face2 = np.array([vertice1, vertice2, vertice3])\n",
        "\n",
        "    faces.append(face1)\n",
        "    faces.append(face2)\n",
        "\n",
        "facesNp = np.array(faces)\n",
        "\n",
        "# Create the mesh\n",
        "surface = mesh.Mesh(np.zeros(facesNp.shape[0], dtype=mesh.Mesh.dtype))\n",
        "for i, f in enumerate(faces):\n",
        "    for j in range(3):\n",
        "        surface.vectors[i][j] = facesNp[i][j]\n",
        "\n",
        "\n",
        "surface.save('surface.stl')\n",
        "print(surface)\n"
      ],
      "metadata": {
        "colab": {
          "base_uri": "https://localhost:8080/"
        },
        "id": "uTqsrD2e4Oon",
        "outputId": "09a85b14-d0c4-4b8d-8224-9673aa4495cb"
      },
      "execution_count": null,
      "outputs": [
        {
          "output_type": "stream",
          "name": "stdout",
          "text": [
            "[[0 0 0 ... 0 0 0]\n",
            " [0 0 0 ... 0 0 0]\n",
            " [0 0 0 ... 0 0 0]\n",
            " ...\n",
            " [0 0 0 ... 0 0 0]\n",
            " [0 0 0 ... 0 0 0]\n",
            " [0 0 0 ... 0 0 0]]\n",
            "<Mesh: '' 497354 vertices>\n"
          ]
        }
      ]
    }
  ]
}